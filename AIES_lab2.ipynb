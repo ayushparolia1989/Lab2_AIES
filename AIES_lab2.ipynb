{
  "nbformat": 4,
  "nbformat_minor": 0,
  "metadata": {
    "colab": {
      "name": "AIES_lab2.ipynb",
      "provenance": []
    },
    "kernelspec": {
      "name": "python3",
      "display_name": "Python 3"
    }
  },
  "cells": [
    {
      "cell_type": "code",
      "metadata": {
        "colab": {
          "base_uri": "https://localhost:8080/"
        },
        "id": "QuKjbpHhIGY2",
        "outputId": "07478dd3-d056-442b-ead6-ee8f2a92fa15"
      },
      "source": [
        "x=10\r\n",
        "y=20\r\n",
        "\r\n",
        "print (x+y)\r\n",
        "print (x-y)\r\n",
        "print (x*y)\r\n",
        "print (x/y)"
      ],
      "execution_count": 1,
      "outputs": [
        {
          "output_type": "stream",
          "text": [
            "30\n",
            "-10\n",
            "200\n",
            "0.5\n"
          ],
          "name": "stdout"
        }
      ]
    }
  ]
}